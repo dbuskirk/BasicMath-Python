{
 "cells": [
  {
   "cell_type": "markdown",
   "metadata": {},
   "source": [
    "## Dan's Notes: The Sieve of Eratosthenes\n",
    "\n",
    "©2019-2020 Daniel R. Buskirk<br/>\n",
    "danbuskirk1729@gmail.com<br/>\n"
   ]
  },
  {
   "cell_type": "markdown",
   "metadata": {},
   "source": [
    "### The Sieve of Eratosthenes"
   ]
  },
  {
   "cell_type": "markdown",
   "metadata": {},
   "source": [
    "The Sieve of Eratosthenes is a particularly fast was to indentify the primes less than some specified value. The original method has become the great-grandfather to many related methods, collectively called \"sieve methods\".<br />\n",
    "The sieve works by creating an boolean array with an element for each number in the desired range. It is simple and natural to identify the array index with the number to be evaluated. We can start at element 4 and set every second element in the array to False, since it must be a multiple of two. We then start at 6 and set every 3rd element to False since they must be multiples of three, and so forth.<br />\n",
    "Note that this algorithm does not perform any division operations at all. Marching through the array requires only addition, and is thus very fast."
   ]
  },
  {
   "cell_type": "code",
   "execution_count": 30,
   "metadata": {
    "collapsed": true
   },
   "outputs": [],
   "source": [
    "import math"
   ]
  },
  {
   "cell_type": "code",
   "execution_count": 18,
   "metadata": {
    "collapsed": false
   },
   "outputs": [],
   "source": [
    "limit=10000\n",
    "#n = [True for x in range(2, int(math.sqrt(limit)))]\n",
    "n = [True for x in range( limit)]"
   ]
  },
  {
   "cell_type": "code",
   "execution_count": 19,
   "metadata": {
    "collapsed": false
   },
   "outputs": [
    {
     "name": "stdout",
     "output_type": "stream",
     "text": [
      "True\n",
      "<class 'bool'>\n"
     ]
    }
   ],
   "source": [
    "print (n[0])\n",
    "print(type(n[0]))"
   ]
  },
  {
   "cell_type": "markdown",
   "metadata": {},
   "source": [
    "We do not need to check numbers any greater than the square root of the largest integer. This is because any composite number with a factor greater than its square root must also have a factor less than its square root, and thus will already have been identified as composite by the algorithm. "
   ]
  },
  {
   "cell_type": "code",
   "execution_count": 21,
   "metadata": {
    "collapsed": false
   },
   "outputs": [],
   "source": [
    "for i in range(2, int(math.sqrt(limit-1))):\n",
    "    if n[i]:\n",
    "        for k in range(i+i,limit-1, i):\n",
    "            n[k]=False\n",
    "    "
   ]
  },
  {
   "cell_type": "markdown",
   "metadata": {},
   "source": [
    "Two quick tests to see if things are looking as they should."
   ]
  },
  {
   "cell_type": "code",
   "execution_count": 22,
   "metadata": {
    "collapsed": false
   },
   "outputs": [
    {
     "name": "stdout",
     "output_type": "stream",
     "text": [
      "[True, True, True, True, False, True, False, True, False, False, False, True, False, True, False, False, False, True, False, True]\n"
     ]
    }
   ],
   "source": [
    "print ([n[i] for i in range(20)])"
   ]
  },
  {
   "cell_type": "code",
   "execution_count": 25,
   "metadata": {
    "collapsed": false
   },
   "outputs": [
    {
     "name": "stdout",
     "output_type": "stream",
     "text": [
      "2\n",
      "3\n",
      "5\n",
      "7\n",
      "11\n",
      "13\n",
      "17\n",
      "19\n",
      "23\n",
      "29\n"
     ]
    }
   ],
   "source": [
    "for i in range(2, 30):\n",
    "    if n[i]:\n",
    "        print(i)"
   ]
  },
  {
   "cell_type": "markdown",
   "metadata": {},
   "source": [
    "We can now write the prime numbers to a file."
   ]
  },
  {
   "cell_type": "code",
   "execution_count": 29,
   "metadata": {
    "collapsed": false
   },
   "outputs": [],
   "source": [
    "outF = open(\"primes.txt\", \"w\")\n",
    "for i in range(limit-1):\n",
    "  if n[i]:\n",
    "     outF.write(str(i)) # coercion to str is required\n",
    "     outF.write(\"\\n\")\n",
    "outF.close()"
   ]
  },
  {
   "cell_type": "code",
   "execution_count": null,
   "metadata": {
    "collapsed": true
   },
   "outputs": [],
   "source": []
  }
 ],
 "metadata": {
  "kernelspec": {
   "display_name": "Python [Root]",
   "language": "python",
   "name": "Python [Root]"
  },
  "language_info": {
   "codemirror_mode": {
    "name": "ipython",
    "version": 3
   },
   "file_extension": ".py",
   "mimetype": "text/x-python",
   "name": "python",
   "nbconvert_exporter": "python",
   "pygments_lexer": "ipython3",
   "version": "3.5.6"
  }
 },
 "nbformat": 4,
 "nbformat_minor": 0
}
